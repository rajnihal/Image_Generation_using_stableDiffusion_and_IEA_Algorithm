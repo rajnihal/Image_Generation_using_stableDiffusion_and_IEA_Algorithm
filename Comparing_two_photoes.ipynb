{
  "nbformat": 4,
  "nbformat_minor": 0,
  "metadata": {
    "colab": {
      "provenance": [],
      "authorship_tag": "ABX9TyMjjDYIgfjq+s7Rs1drYh4+",
      "include_colab_link": true
    },
    "kernelspec": {
      "name": "python3",
      "display_name": "Python 3"
    },
    "language_info": {
      "name": "python"
    }
  },
  "cells": [
    {
      "cell_type": "markdown",
      "metadata": {
        "id": "view-in-github",
        "colab_type": "text"
      },
      "source": [
        "<a href=\"https://colab.research.google.com/github/rajnihal/Image_Generation_using_stableDiffusion_and_IEA_Algorithm/blob/main/Comparing_two_photoes.ipynb\" target=\"_parent\"><img src=\"https://colab.research.google.com/assets/colab-badge.svg\" alt=\"Open In Colab\"/></a>"
      ]
    },
    {
      "cell_type": "code",
      "execution_count": null,
      "metadata": {
        "colab": {
          "base_uri": "https://localhost:8080/"
        },
        "id": "uWTTjzx0hYHv",
        "outputId": "90a88b98-79ef-402d-8bb8-77bfc1b34cac"
      },
      "outputs": [
        {
          "output_type": "stream",
          "name": "stdout",
          "text": [
            "Mounted at /content/drive\n",
            "Cosine Similarity between img1.jpg and img2.jpg: 0.8408149257785386\n"
          ]
        }
      ],
      "source": [
        "import tensorflow as tf\n",
        "import tensorflow_hub as hub\n",
        "import numpy as np\n",
        "from google.colab import drive\n",
        "from math import sqrt  # Import sqrt function from math module\n",
        "\n",
        "# Mount Google Drive\n",
        "drive.mount('/content/drive')\n",
        "\n",
        "# Load pre-trained model from TensorFlow Hub\n",
        "embed = hub.KerasLayer(\"https://tfhub.dev/google/tf2-preview/mobilenet_v2/feature_vector/4\")\n",
        "\n",
        "class TensorVector(object):\n",
        "\n",
        "    def __init__(self, FileName=None):\n",
        "        self.FileName = FileName\n",
        "\n",
        "    def process(self):\n",
        "\n",
        "        img = tf.io.read_file(self.FileName)\n",
        "        img = tf.io.decode_jpeg(img, channels=3)\n",
        "        img = tf.image.resize_with_pad(img, 224, 224)\n",
        "        img = tf.image.convert_image_dtype(img, tf.float32)[tf.newaxis, ...]\n",
        "        features = embed(img)\n",
        "        feature_set = np.squeeze(features)\n",
        "        return list(feature_set)\n",
        "\n",
        "# Process img1.jpg\n",
        "helper = TensorVector(\"/content/drive/MyDrive/tree1.jpeg\")\n",
        "vector1 = helper.process()\n",
        "\n",
        "# Process img2.jpg\n",
        "helper = TensorVector(\"/content/drive/MyDrive/tree2.jpeg\")\n",
        "vector2 = helper.process()\n",
        "\n",
        "# Calculate cosine similarity\n",
        "def cosineSim(a1, a2):\n",
        "    sum = 0\n",
        "    suma1 = 0\n",
        "    sumb1 = 0\n",
        "    for i,j in zip(a1, a2):\n",
        "        suma1 += i * i\n",
        "        sumb1 += j * j\n",
        "        sum += i * j\n",
        "    cosine_sim = sum / ((sqrt(suma1)) * (sqrt(sumb1)))\n",
        "    return cosine_sim\n",
        "\n",
        "cosine_similarity = cosineSim(vector1, vector2)\n",
        "print(\"Cosine Similarity between img1.jpg and img2.jpg:\", cosine_similarity)\n"
      ]
    }
  ]
}